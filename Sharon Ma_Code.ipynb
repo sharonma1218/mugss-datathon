{
  "cells": [
    {
      "cell_type": "markdown",
      "metadata": {
        "id": "view-in-github",
        "colab_type": "text"
      },
      "source": [
        "<a href=\"https://colab.research.google.com/github/sharonma1218/mugss-datathon/blob/main/Sharon%20Ma_MUgSS%20Datathon_Code.ipynb\" target=\"_parent\"><img src=\"https://colab.research.google.com/assets/colab-badge.svg\" alt=\"Open In Colab\"/></a>"
      ]
    },
    {
      "cell_type": "markdown",
      "source": [
        "# Group 9 - MUgSS Datathon - Code By Sharon Ma"
      ],
      "metadata": {
        "id": "PsrkuVHRf5F0"
      }
    },
    {
      "cell_type": "code",
      "source": [
        "install.packages(\"stargazer\")"
      ],
      "metadata": {
        "id": "QnYiExku0tYr"
      },
      "execution_count": null,
      "outputs": []
    },
    {
      "cell_type": "code",
      "execution_count": null,
      "metadata": {
        "id": "B-U07Ub1Wejm",
        "nbgrader": {
          "grade": false,
          "grade_id": "cell-1be04a157d86c84b",
          "locked": true,
          "schema_version": 3,
          "solution": false
        },
        "colab": {
          "base_uri": "https://localhost:8080/"
        },
        "outputId": "e56d5cf3-5e61-4a11-be6d-1c434f1a4282"
      },
      "outputs": [
        {
          "output_type": "stream",
          "name": "stderr",
          "text": [
            "Warning message in system(\"timedatectl\", intern = TRUE):\n",
            "“running command 'timedatectl' had status 1”\n",
            "── \u001b[1mAttaching packages\u001b[22m ─────────────────────────────────────── tidyverse 1.3.1 ──\n",
            "\n",
            "\u001b[32m✔\u001b[39m \u001b[34mggplot2\u001b[39m 3.4.1     \u001b[32m✔\u001b[39m \u001b[34mpurrr  \u001b[39m 1.0.1\n",
            "\u001b[32m✔\u001b[39m \u001b[34mtibble \u001b[39m 3.1.8     \u001b[32m✔\u001b[39m \u001b[34mdplyr  \u001b[39m 1.1.0\n",
            "\u001b[32m✔\u001b[39m \u001b[34mtidyr  \u001b[39m 1.3.0     \u001b[32m✔\u001b[39m \u001b[34mstringr\u001b[39m 1.4.1\n",
            "\u001b[32m✔\u001b[39m \u001b[34mreadr  \u001b[39m 2.1.4     \u001b[32m✔\u001b[39m \u001b[34mforcats\u001b[39m 1.0.0\n",
            "\n",
            "── \u001b[1mConflicts\u001b[22m ────────────────────────────────────────── tidyverse_conflicts() ──\n",
            "\u001b[31m✖\u001b[39m \u001b[34mdplyr\u001b[39m::\u001b[32mfilter()\u001b[39m masks \u001b[34mstats\u001b[39m::filter()\n",
            "\u001b[31m✖\u001b[39m \u001b[34mdplyr\u001b[39m::\u001b[32mlag()\u001b[39m    masks \u001b[34mstats\u001b[39m::lag()\n",
            "\n"
          ]
        }
      ],
      "source": [
        "library(tidyverse)\n",
        "library(ggplot2)\n",
        "library(stargazer)\n",
        "options(repr.plot.width = 5, repr.plot.height = 4)"
      ]
    },
    {
      "cell_type": "code",
      "source": [
        "df<-read.csv(\"/content/mxmh_survey_results.csv\")"
      ],
      "metadata": {
        "id": "UhXz-bfKccpp"
      },
      "execution_count": null,
      "outputs": []
    },
    {
      "cell_type": "markdown",
      "source": [
        "### Age: Mean/Median, Distribution, & Correlation"
      ],
      "metadata": {
        "id": "nCt11pkrv8JW"
      }
    },
    {
      "cell_type": "code",
      "source": [
        "# The mean age is 25.207. \n",
        "# The median age is 21.\n",
        "# B/c the mean age != the median age, we can anticipate that the distribution is right skewed (leaning towards the younger side),\n",
        "# and we can see that from the following histogram: \n",
        "\n",
        "mean(df$Age,na.rm=TRUE)\n",
        "\n",
        "median(df$Age,na.rm=TRUE)\n",
        "\n",
        "df%>%\n",
        "  ggplot(aes(x=Age))+\n",
        "  geom_histogram(fill=\"blue\")+\n",
        "  theme_bw()+\n",
        "  labs(title=\"Age Distribution of Music Listeners\")"
      ],
      "metadata": {
        "colab": {
          "base_uri": "https://localhost:8080/",
          "height": 345
        },
        "id": "e57NEB30ftBL",
        "outputId": "cf16c1ad-227a-4849-b190-e0a75d0cb3a0"
      },
      "execution_count": null,
      "outputs": [
        {
          "output_type": "display_data",
          "data": {
            "text/html": [
              "25.2068027210884"
            ],
            "text/markdown": "25.2068027210884",
            "text/latex": "25.2068027210884",
            "text/plain": [
              "[1] 25.2068"
            ]
          },
          "metadata": {}
        },
        {
          "output_type": "display_data",
          "data": {
            "text/html": [
              "21"
            ],
            "text/markdown": "21",
            "text/latex": "21",
            "text/plain": [
              "[1] 21"
            ]
          },
          "metadata": {}
        },
        {
          "output_type": "stream",
          "name": "stderr",
          "text": [
            "\u001b[1m\u001b[22m`stat_bin()` using `bins = 30`. Pick better value with `binwidth`.\n",
            "Warning message:\n",
            "“\u001b[1m\u001b[22mRemoved 1 rows containing non-finite values (`stat_bin()`).”\n"
          ]
        },
        {
          "output_type": "display_data",
          "data": {
            "text/plain": [
              "plot without title"
            ],
            "image/png": "[encoded data removed]"
          },
          "metadata": {
            "image/png": {
              "width": 300,
              "height": 240
            }
          }
        }
      ]
    },
    {
      "cell_type": "markdown",
      "source": [
        "### Hours Listened: Mean/Median, Distribution, & Correlation"
      ],
      "metadata": {
        "id": "-tXqIPc1wEd2"
      }
    },
    {
      "cell_type": "code",
      "source": [
        "# This distribution is also slightly right skewed, w/ the median & mean hours listened b/w 3 and 3.6\n",
        "\n",
        "mean(df$Hours.per.day)\n",
        "\n",
        "median(df$Hours.per.day)\n",
        "\n",
        "df%>%\n",
        "  ggplot(aes(x=Hours.per.day))+\n",
        "  geom_histogram(binwidth=1,fill=\"blue\")+\n",
        "  labs(title=\"Distribution of Hours/Day\",\n",
        "        x=\"Hours/day\")+\n",
        "          theme_bw()"
      ],
      "metadata": {
        "colab": {
          "base_uri": "https://localhost:8080/",
          "height": 408
        },
        "id": "S7yywDzfgpV0",
        "outputId": "859c6143-681a-420a-8ffc-11350e53e8f2"
      },
      "execution_count": null,
      "outputs": [
        {
          "output_type": "display_data",
          "data": {
            "text/html": [
              "3.57275815217391"
            ],
            "text/markdown": "3.57275815217391",
            "text/latex": "3.57275815217391",
            "text/plain": [
              "[1] 3.572758"
            ]
          },
          "metadata": {}
        },
        {
          "output_type": "display_data",
          "data": {
            "text/html": [
              "3"
            ],
            "text/markdown": "3",
            "text/latex": "3",
            "text/plain": [
              "[1] 3"
            ]
          },
          "metadata": {}
        },
        {
          "output_type": "error",
          "ename": "ERROR",
          "evalue": "ignored",
          "traceback": [
            "Error in UseMethod(\"summarise\"): no applicable method for 'summarise' applied to an object of class \"lm\"\nTraceback:\n",
            "1. summarize(reg01)"
          ]
        },
        {
          "output_type": "display_data",
          "data": {
            "text/plain": [
              "plot without title"
            ],
            "image/png": "[encoded data removed]"
          },
          "metadata": {
            "image/png": {
              "width": 300,
              "height": 240
            }
          }
        }
      ]
    },
    {
      "cell_type": "code",
      "source": [
        "# If we regress hours/day on anxiety, depression, insomnia, and OCD; \n",
        "reg01<-lm(Anxiety~Hours.per.day+Age,data=df)\n",
        "reg02<-lm(Depression~Hours.per.day+Age,data=df)\n",
        "reg03<-lm(Insomnia~Hours.per.day+Age,data=df)\n",
        "reg04<-lm(OCD~Hours.per.day+Age,data=df)"
      ],
      "metadata": {
        "id": "lPuRLKuwqefe"
      },
      "execution_count": null,
      "outputs": []
    },
    {
      "cell_type": "code",
      "source": [
        "stargazer(reg01,reg02,reg03,reg04)"
      ],
      "metadata": {
        "id": "gPIMcdlLruYb"
      },
      "execution_count": null,
      "outputs": []
    },
    {
      "cell_type": "markdown",
      "source": [
        "### Listening to Music While Working: Mean/Median, Distribution, & Correlation"
      ],
      "metadata": {
        "id": "zwY39fG7wFu1"
      }
    },
    {
      "cell_type": "code",
      "source": [
        "# Approx 79% of the sample listen to music while working while 21% do not.\n",
        "\n",
        "table(df$While.working)\n",
        "\n",
        "579/(154+579)\n",
        "\n",
        "154/(154+579)\n",
        "\n",
        "df%>%\n",
        "  filter(While.working==\"No\" | While.working==\"Yes\")%>%\n",
        "  mutate(n=n())%>%\n",
        "  ggplot(aes(x=\"\",y=n,fill=While.working))+\n",
        "  geom_bar(stat=\"identity\",width=1)+\n",
        "  coord_polar(\"y\",start=0)+\n",
        "  theme_void()+\n",
        "  labs(title=\"Proportion Who Listen to Music While Working\",\n",
        "        fill=\"While Working\")\n",
        "\n",
        "# If we regress listening to music while working on anxiety, depression, insomnia, and OCD,\n",
        "# (Luka has the code for this.)"
      ],
      "metadata": {
        "colab": {
          "base_uri": "https://localhost:8080/",
          "height": 345
        },
        "id": "QlekZRkPilUL",
        "outputId": "5e4a480a-0acf-45c3-be48-170fe84cb370"
      },
      "execution_count": null,
      "outputs": [
        {
          "output_type": "display_data",
          "data": {
            "text/plain": [
              "\n",
              "     No Yes \n",
              "  3 154 579 "
            ]
          },
          "metadata": {}
        },
        {
          "output_type": "display_data",
          "data": {
            "text/html": [
              "0.789904502046385"
            ],
            "text/markdown": "0.789904502046385",
            "text/latex": "0.789904502046385",
            "text/plain": [
              "[1] 0.7899045"
            ]
          },
          "metadata": {}
        },
        {
          "output_type": "display_data",
          "data": {
            "text/html": [
              "0.210095497953615"
            ],
            "text/markdown": "0.210095497953615",
            "text/latex": "0.210095497953615",
            "text/plain": [
              "[1] 0.2100955"
            ]
          },
          "metadata": {}
        },
        {
          "output_type": "display_data",
          "data": {
            "text/plain": [
              "plot without title"
            ],
            "image/png": "[encoded data removed]"
          },
          "metadata": {
            "image/png": {
              "width": 300,
              "height": 240
            }
          }
        }
      ]
    },
    {
      "cell_type": "markdown",
      "source": [
        "### Playing an Instrument: Mean/Median, Distribution, & Correlation"
      ],
      "metadata": {
        "id": "ZlKiCOQdwJrc"
      }
    },
    {
      "cell_type": "code",
      "source": [
        "# Approx 32% of the sample are instrumentalists while 68% are not.\n",
        "\n",
        "table(df$Instrumentalist)\n",
        "497/(497+235)\n",
        "235/(497+235)\n",
        "497+235\n",
        "\n",
        "df%>%\n",
        "  filter(Instrumentalist==\"No\" | Instrumentalist==\"Yes\")%>%\n",
        "  mutate(n=n())%>%\n",
        "  ggplot(aes(x=\"\",y=n,fill=Instrumentalist))+\n",
        "  geom_bar(stat=\"identity\",width=1)+\n",
        "  coord_polar(\"y\",start=0)+\n",
        "  theme_void()+\n",
        "  labs(title=\"Proportion who Play an Instrument\",\n",
        "        fill=\"Instrumentalist\")"
      ],
      "metadata": {
        "colab": {
          "base_uri": "https://localhost:8080/",
          "height": 363
        },
        "id": "MQu9EyBwnqgR",
        "outputId": "727e5117-cc8c-4616-f9af-80eb0778d979"
      },
      "execution_count": null,
      "outputs": [
        {
          "output_type": "display_data",
          "data": {
            "text/plain": [
              "\n",
              "     No Yes \n",
              "  4 497 235 "
            ]
          },
          "metadata": {}
        },
        {
          "output_type": "display_data",
          "data": {
            "text/html": [
              "0.67896174863388"
            ],
            "text/markdown": "0.67896174863388",
            "text/latex": "0.67896174863388",
            "text/plain": [
              "[1] 0.6789617"
            ]
          },
          "metadata": {}
        },
        {
          "output_type": "display_data",
          "data": {
            "text/html": [
              "0.32103825136612"
            ],
            "text/markdown": "0.32103825136612",
            "text/latex": "0.32103825136612",
            "text/plain": [
              "[1] 0.3210383"
            ]
          },
          "metadata": {}
        },
        {
          "output_type": "display_data",
          "data": {
            "text/html": [
              "732"
            ],
            "text/markdown": "732",
            "text/latex": "732",
            "text/plain": [
              "[1] 732"
            ]
          },
          "metadata": {}
        },
        {
          "output_type": "display_data",
          "data": {
            "text/plain": [
              "plot without title"
            ],
            "image/png": "[encoded data removed]"
          },
          "metadata": {
            "image/png": {
              "width": 300,
              "height": 240
            }
          }
        }
      ]
    },
    {
      "cell_type": "code",
      "source": [
        "# If we regress instrumentalist on Anxiety, Depression, Insomnia, and OCD; \n",
        "reg05<-lm(Anxiety~Instrumentalist+Age,data=df)\n",
        "reg06<-lm(Depression~Instrumentalist+Age,data=df)\n",
        "reg07<-lm(Insomnia~Instrumentalist+Age,data=df)\n",
        "reg08<-lm(OCD~Instrumentalist+Age,data=df)\n",
        "# There is no statisitcally significant correlation b/w composing music & Anxiety, Depression, Insomnia, & OCD. "
      ],
      "metadata": {
        "id": "ULnCbKYatZF0"
      },
      "execution_count": null,
      "outputs": []
    },
    {
      "cell_type": "code",
      "source": [
        "stargazer(reg05,reg06,reg07,reg08)"
      ],
      "metadata": {
        "colab": {
          "base_uri": "https://localhost:8080/"
        },
        "id": "Cmy5w34_tmmq",
        "outputId": "299f36a1-9b42-47ab-b101-82b919ff344b"
      },
      "execution_count": null,
      "outputs": [
        {
          "output_type": "stream",
          "name": "stdout",
          "text": [
            "\n",
            "% Table created by stargazer v.5.2.3 by Marek Hlavac, Social Policy Institute. E-mail: marek.hlavac at gmail.com\n",
            "% Date and time: Sat, Mar 11, 2023 - 07:24:26 PM\n",
            "\\begin{table}[!htbp] \\centering \n",
            "  \\caption{} \n",
            "  \\label{} \n",
            "\\begin{tabular}{@{\\extracolsep{5pt}}lcccc} \n",
            "\\\\[-1.8ex]\\hline \n",
            "\\hline \\\\[-1.8ex] \n",
            " & \\multicolumn{4}{c}{\\textit{Dependent variable:}} \\\\ \n",
            "\\cline{2-5} \n",
            "\\\\[-1.8ex] & Anxiety & Depression & Insomnia & OCD \\\\ \n",
            "\\\\[-1.8ex] & (1) & (2) & (3) & (4)\\\\ \n",
            "\\hline \\\\[-1.8ex] \n",
            " InstrumentalistNo & 0.643 & 0.311 & $-$1.097 & 0.374 \\\\ \n",
            "  & (1.384) & (1.515) & (1.556) & (1.418) \\\\ \n",
            "  & & & & \\\\ \n",
            " InstrumentalistYes & 0.673 & 0.243 & $-$0.913 & 0.364 \\\\ \n",
            "  & (1.389) & (1.520) & (1.561) & (1.423) \\\\ \n",
            "  & & & & \\\\ \n",
            " Age & $-$0.041$^{***}$ & $-$0.031$^{***}$ & 0.003 & $-$0.031$^{***}$ \\\\ \n",
            "  & (0.009) & (0.009) & (0.010) & (0.009) \\\\ \n",
            "  & & & & \\\\ \n",
            " Constant & 6.217$^{***}$ & 5.292$^{***}$ & 4.698$^{***}$ & 3.039$^{**}$ \\\\ \n",
            "  & (1.385) & (1.516) & (1.556) & (1.419) \\\\ \n",
            "  & & & & \\\\ \n",
            "\\hline \\\\[-1.8ex] \n",
            "Observations & 735 & 735 & 735 & 735 \\\\ \n",
            "R$^{2}$ & 0.032 & 0.015 & 0.001 & 0.017 \\\\ \n",
            "Adjusted R$^{2}$ & 0.028 & 0.011 & $-$0.003 & 0.013 \\\\ \n",
            "Residual Std. Error (df = 731) & 2.754 & 3.014 & 3.094 & 2.821 \\\\ \n",
            "F Statistic (df = 3; 731) & 7.933$^{***}$ & 3.694$^{**}$ & 0.343 & 4.220$^{***}$ \\\\ \n",
            "\\hline \n",
            "\\hline \\\\[-1.8ex] \n",
            "\\textit{Note:}  & \\multicolumn{4}{r}{$^{*}$p$<$0.1; $^{**}$p$<$0.05; $^{***}$p$<$0.01} \\\\ \n",
            "\\end{tabular} \n",
            "\\end{table} \n"
          ]
        }
      ]
    },
    {
      "cell_type": "markdown",
      "source": [
        "### Composing Music: Mean/Median, Distribution, & Correlation"
      ],
      "metadata": {
        "id": "SmLshmh3wNDl"
      }
    },
    {
      "cell_type": "code",
      "source": [
        "# Approx 17% of the sample are composers while 83% are not. \n",
        "\n",
        "table(df$Composer)\n",
        "609/(609+126)\n",
        "126/(609+126)\n",
        "\n",
        "df%>%\n",
        "  filter(Composer==\"No\" | Composer==\"Yes\")%>%\n",
        "  mutate(n=n())%>%\n",
        "  ggplot(aes(x=\"\",y=n,fill=Composer))+\n",
        "  geom_bar(stat=\"identity\",width=1)+\n",
        "  coord_polar(\"y\",start=0)+\n",
        "  theme_void()+\n",
        "  labs(title=\"Proportion who Play an Instrument\",\n",
        "        fill=\"Composer\")"
      ],
      "metadata": {
        "colab": {
          "base_uri": "https://localhost:8080/",
          "height": 345
        },
        "id": "22UKU_unv6qQ",
        "outputId": "425fc744-3776-4b0d-f9e5-5103bd0094a0"
      },
      "execution_count": null,
      "outputs": [
        {
          "output_type": "display_data",
          "data": {
            "text/plain": [
              "\n",
              "     No Yes \n",
              "  1 609 126 "
            ]
          },
          "metadata": {}
        },
        {
          "output_type": "display_data",
          "data": {
            "text/html": [
              "0.828571428571429"
            ],
            "text/markdown": "0.828571428571429",
            "text/latex": "0.828571428571429",
            "text/plain": [
              "[1] 0.8285714"
            ]
          },
          "metadata": {}
        },
        {
          "output_type": "display_data",
          "data": {
            "text/html": [
              "0.171428571428571"
            ],
            "text/markdown": "0.171428571428571",
            "text/latex": "0.171428571428571",
            "text/plain": [
              "[1] 0.1714286"
            ]
          },
          "metadata": {}
        },
        {
          "output_type": "display_data",
          "data": {
            "text/plain": [
              "plot without title"
            ],
            "image/png": "[encoded data removed]"
          },
          "metadata": {
            "image/png": {
              "width": 300,
              "height": 240
            }
          }
        }
      ]
    },
    {
      "cell_type": "code",
      "source": [
        "# If we regress composer on Anxiety, Depression, Insomnia, and OCD; \n",
        "reg09<-lm(Anxiety~Composer+Age,data=df)\n",
        "reg10<-lm(Depression~Composer+Age,data=df)\n",
        "reg11<-lm(Insomnia~Composer+Age,data=df)\n",
        "reg12<-lm(OCD~Composer+Age,data=df)\n",
        "# There is no statisitcally significant correlation b/w composing music & Anxiety, Depression, Insomnia, & OCD. "
      ],
      "metadata": {
        "id": "7YGgWFg6xfvu"
      },
      "execution_count": null,
      "outputs": []
    },
    {
      "cell_type": "code",
      "source": [
        "stargazer(reg09)"
      ],
      "metadata": {
        "id": "g30KidAJxnPb"
      },
      "execution_count": null,
      "outputs": []
    },
    {
      "cell_type": "code",
      "source": [
        "stargazer(reg10)"
      ],
      "metadata": {
        "id": "Io0kKZQPxp-J"
      },
      "execution_count": null,
      "outputs": []
    },
    {
      "cell_type": "code",
      "source": [
        "stargazer(reg11)"
      ],
      "metadata": {
        "id": "yUxBmtsyxq1I"
      },
      "execution_count": null,
      "outputs": []
    },
    {
      "cell_type": "code",
      "source": [
        "stargazer(reg12)"
      ],
      "metadata": {
        "id": "IaNFIV5Axsot"
      },
      "execution_count": null,
      "outputs": []
    },
    {
      "cell_type": "markdown",
      "source": [
        "### Fave Genre "
      ],
      "metadata": {
        "id": "doctnF9T0WD8"
      }
    },
    {
      "cell_type": "code",
      "source": [
        "df%>%colnames"
      ],
      "metadata": {
        "colab": {
          "base_uri": "https://localhost:8080/",
          "height": 69
        },
        "id": "omxyxAK32uk3",
        "outputId": "10297bd6-45b3-424c-b231-d8994291c491"
      },
      "execution_count": null,
      "outputs": [
        {
          "output_type": "display_data",
          "data": {
            "text/html": [
              "<style>\n",
              ".list-inline {list-style: none; margin:0; padding: 0}\n",
              ".list-inline>li {display: inline-block}\n",
              ".list-inline>li:not(:last-child)::after {content: \"\\00b7\"; padding: 0 .5ex}\n",
              "</style>\n",
              "<ol class=list-inline><li>'Timestamp'</li><li>'Age'</li><li>'Primary.streaming.service'</li><li>'Hours.per.day'</li><li>'While.working'</li><li>'Instrumentalist'</li><li>'Composer'</li><li>'Fav.genre'</li><li>'Exploratory'</li><li>'Foreign.languages'</li><li>'BPM'</li><li>'Frequency..Classical.'</li><li>'Frequency..Country.'</li><li>'Frequency..EDM.'</li><li>'Frequency..Folk.'</li><li>'Frequency..Gospel.'</li><li>'Frequency..Hip.hop.'</li><li>'Frequency..Jazz.'</li><li>'Frequency..K.pop.'</li><li>'Frequency..Latin.'</li><li>'Frequency..Lofi.'</li><li>'Frequency..Metal.'</li><li>'Frequency..Pop.'</li><li>'Frequency..R.B.'</li><li>'Frequency..Rap.'</li><li>'Frequency..Rock.'</li><li>'Frequency..Video.game.music.'</li><li>'Anxiety'</li><li>'Depression'</li><li>'Insomnia'</li><li>'OCD'</li><li>'Music.effects'</li><li>'Permissions'</li></ol>\n"
            ],
            "text/markdown": "1. 'Timestamp'\n2. 'Age'\n3. 'Primary.streaming.service'\n4. 'Hours.per.day'\n5. 'While.working'\n6. 'Instrumentalist'\n7. 'Composer'\n8. 'Fav.genre'\n9. 'Exploratory'\n10. 'Foreign.languages'\n11. 'BPM'\n12. 'Frequency..Classical.'\n13. 'Frequency..Country.'\n14. 'Frequency..EDM.'\n15. 'Frequency..Folk.'\n16. 'Frequency..Gospel.'\n17. 'Frequency..Hip.hop.'\n18. 'Frequency..Jazz.'\n19. 'Frequency..K.pop.'\n20. 'Frequency..Latin.'\n21. 'Frequency..Lofi.'\n22. 'Frequency..Metal.'\n23. 'Frequency..Pop.'\n24. 'Frequency..R.B.'\n25. 'Frequency..Rap.'\n26. 'Frequency..Rock.'\n27. 'Frequency..Video.game.music.'\n28. 'Anxiety'\n29. 'Depression'\n30. 'Insomnia'\n31. 'OCD'\n32. 'Music.effects'\n33. 'Permissions'\n\n\n",
            "text/latex": "\\begin{enumerate*}\n\\item 'Timestamp'\n\\item 'Age'\n\\item 'Primary.streaming.service'\n\\item 'Hours.per.day'\n\\item 'While.working'\n\\item 'Instrumentalist'\n\\item 'Composer'\n\\item 'Fav.genre'\n\\item 'Exploratory'\n\\item 'Foreign.languages'\n\\item 'BPM'\n\\item 'Frequency..Classical.'\n\\item 'Frequency..Country.'\n\\item 'Frequency..EDM.'\n\\item 'Frequency..Folk.'\n\\item 'Frequency..Gospel.'\n\\item 'Frequency..Hip.hop.'\n\\item 'Frequency..Jazz.'\n\\item 'Frequency..K.pop.'\n\\item 'Frequency..Latin.'\n\\item 'Frequency..Lofi.'\n\\item 'Frequency..Metal.'\n\\item 'Frequency..Pop.'\n\\item 'Frequency..R.B.'\n\\item 'Frequency..Rap.'\n\\item 'Frequency..Rock.'\n\\item 'Frequency..Video.game.music.'\n\\item 'Anxiety'\n\\item 'Depression'\n\\item 'Insomnia'\n\\item 'OCD'\n\\item 'Music.effects'\n\\item 'Permissions'\n\\end{enumerate*}\n",
            "text/plain": [
              " [1] \"Timestamp\"                    \"Age\"                         \n",
              " [3] \"Primary.streaming.service\"    \"Hours.per.day\"               \n",
              " [5] \"While.working\"                \"Instrumentalist\"             \n",
              " [7] \"Composer\"                     \"Fav.genre\"                   \n",
              " [9] \"Exploratory\"                  \"Foreign.languages\"           \n",
              "[11] \"BPM\"                          \"Frequency..Classical.\"       \n",
              "[13] \"Frequency..Country.\"          \"Frequency..EDM.\"             \n",
              "[15] \"Frequency..Folk.\"             \"Frequency..Gospel.\"          \n",
              "[17] \"Frequency..Hip.hop.\"          \"Frequency..Jazz.\"            \n",
              "[19] \"Frequency..K.pop.\"            \"Frequency..Latin.\"           \n",
              "[21] \"Frequency..Lofi.\"             \"Frequency..Metal.\"           \n",
              "[23] \"Frequency..Pop.\"              \"Frequency..R.B.\"             \n",
              "[25] \"Frequency..Rap.\"              \"Frequency..Rock.\"            \n",
              "[27] \"Frequency..Video.game.music.\" \"Anxiety\"                     \n",
              "[29] \"Depression\"                   \"Insomnia\"                    \n",
              "[31] \"OCD\"                          \"Music.effects\"               \n",
              "[33] \"Permissions\"                 "
            ]
          },
          "metadata": {}
        }
      ]
    },
    {
      "cell_type": "code",
      "source": [
        "df1<-df%>%\n",
        "  rename(freq_classic=\"Frequency..Classical.\",\n",
        "          freq_country=\"Frequency..Country.\",\n",
        "          freq_edm=\"Frequency..EDM.\",\n",
        "          freq_folk=\"Frequency..Folk.\",\n",
        "          freq_gospel=\"Frequency..Gospel.\",\n",
        "          freq_hiphop=\"Frequency..Hip.hop.\",\n",
        "          freq_jazz=\"Frequency..Jazz.\",\n",
        "          freq_kpop=\"Frequency..K.pop.\",\n",
        "          freq_latin=\"Frequency..Latin.\",\n",
        "          freq_lofi=\"Frequency..Lofi.\",\n",
        "          freq_metal=\"Frequency..Metal.\",\n",
        "          freq_pop=\"Frequency..Pop.\",\n",
        "          freq_rnb=\"Frequency..R.B.\",\n",
        "          freq_rap=\"Frequency..Rap.\",\n",
        "          freq_rock=\"Frequency..Rock.\",\n",
        "          freq_vidgame=\"Frequency..Video.game.music.\")"
      ],
      "metadata": {
        "id": "USJo87fT0Zfv"
      },
      "execution_count": null,
      "outputs": []
    },
    {
      "cell_type": "code",
      "source": [
        "# Regression genre frequencies on anxiety:\n",
        "reg13<-lm(Anxiety~freq_classic+Age,data=df1)\n",
        "reg14<-lm(Anxiety~freq_country+Age,data=df1)\n",
        "reg15<-lm(Anxiety~freq_edm+Age,data=df1)\n",
        "reg16<-lm(Anxiety~freq_folk+Age,data=df1)\n",
        "reg17<-lm(Anxiety~freq_gospel+Age,data=df1)\n",
        "reg18<-lm(Anxiety~freq_hiphop+Age,data=df1)\n",
        "reg19<-lm(Anxiety~freq_jazz+Age,data=df1)\n",
        "reg20<-lm(Anxiety~freq_kpop+Age,data=df1)\n",
        "reg21<-lm(Anxiety~freq_latin+Age,data=df1)\n",
        "reg22<-lm(Anxiety~freq_lofi+Age,data=df1)\n",
        "reg23<-lm(Anxiety~freq_metal+Age,data=df1)\n",
        "reg24<-lm(Anxiety~freq_pop+Age,data=df1)\n",
        "reg25<-lm(Anxiety~freq_rnb+Age,data=df1)\n",
        "reg26<-lm(Anxiety~freq_rap+Age,data=df1)\n",
        "reg27<-lm(Anxiety~freq_rock+Age,data=df1)\n",
        "reg28<-lm(Anxiety~freq_vidgame+Age,data=df1)"
      ],
      "metadata": {
        "id": "j6W40UtB68kE"
      },
      "execution_count": null,
      "outputs": []
    },
    {
      "cell_type": "code",
      "source": [
        "stargazer(reg16)"
      ],
      "metadata": {
        "id": "ljKJ6IeO5jdh"
      },
      "execution_count": null,
      "outputs": []
    },
    {
      "cell_type": "code",
      "source": [
        "stargazer(reg23)"
      ],
      "metadata": {
        "id": "8hwTcU_a52ru"
      },
      "execution_count": null,
      "outputs": []
    },
    {
      "cell_type": "code",
      "source": [
        "stargazer(reg24)"
      ],
      "metadata": {
        "id": "NfTswC4g54ZW"
      },
      "execution_count": null,
      "outputs": []
    },
    {
      "cell_type": "code",
      "source": [
        "stargazer(reg25)"
      ],
      "metadata": {
        "id": "sUHb7N6_57ew"
      },
      "execution_count": null,
      "outputs": []
    },
    {
      "cell_type": "code",
      "source": [
        "stargazer(reg26)"
      ],
      "metadata": {
        "id": "A595H9MA5-La"
      },
      "execution_count": null,
      "outputs": []
    },
    {
      "cell_type": "code",
      "source": [
        "# Regression genre frequencies on depression:\n",
        "reg29<-lm(Depression~freq_classic+Age,data=df1)\n",
        "reg30<-lm(Depression~freq_country+Age,data=df1)\n",
        "reg31<-lm(Depression~freq_edm+Age,data=df1)\n",
        "reg32<-lm(Depression~freq_folk+Age,data=df1)\n",
        "reg33<-lm(Depression~freq_gospel+Age,data=df1)\n",
        "reg34<-lm(Depression~freq_hiphop+Age,data=df1)\n",
        "reg35<-lm(Depression~freq_jazz+Age,data=df1)\n",
        "reg36<-lm(Depression~freq_kpop+Age,data=df1)\n",
        "reg37<-lm(Depression~freq_latin+Age,data=df1)\n",
        "reg38<-lm(Depression~freq_lofi+Age,data=df1)\n",
        "reg39<-lm(Depression~freq_metal+Age,data=df1)\n",
        "reg40<-lm(Depression~freq_pop+Age,data=df1)\n",
        "reg41<-lm(Depression~freq_rnb+Age,data=df1)\n",
        "reg42<-lm(Depression~freq_rap+Age,data=df1)\n",
        "reg43<-lm(Depression~freq_rock+Age,data=df1)\n",
        "reg44<-lm(Depression~freq_vidgame+Age,data=df1)"
      ],
      "metadata": {
        "id": "J9Y4-JBe7CKX"
      },
      "execution_count": null,
      "outputs": []
    },
    {
      "cell_type": "code",
      "source": [
        "stargazer(reg31)"
      ],
      "metadata": {
        "id": "fENKSRFQ73x3"
      },
      "execution_count": null,
      "outputs": []
    },
    {
      "cell_type": "code",
      "source": [
        "stargazer(reg32)"
      ],
      "metadata": {
        "id": "i2Zzitr178jU"
      },
      "execution_count": null,
      "outputs": []
    },
    {
      "cell_type": "code",
      "source": [
        "stargazer(reg34)"
      ],
      "metadata": {
        "id": "OVeCC7Os79zB"
      },
      "execution_count": null,
      "outputs": []
    },
    {
      "cell_type": "code",
      "source": [
        "stargazer(reg39)"
      ],
      "metadata": {
        "id": "p0AlPYuY8AOf"
      },
      "execution_count": null,
      "outputs": []
    },
    {
      "cell_type": "code",
      "source": [
        "stargazer(reg42)"
      ],
      "metadata": {
        "id": "56MxIFI98FIT"
      },
      "execution_count": null,
      "outputs": []
    },
    {
      "cell_type": "code",
      "source": [
        "stargazer(reg43)"
      ],
      "metadata": {
        "id": "m4oU9m1Q8ImJ"
      },
      "execution_count": null,
      "outputs": []
    },
    {
      "cell_type": "code",
      "source": [
        "# Regression genre frequencies on insomnia:\n",
        "reg45<-lm(Insomnia~freq_classic+Age,data=df1)\n",
        "reg46<-lm(Insomnia~freq_country+Age,data=df1)\n",
        "reg47<-lm(Insomnia~freq_edm+Age,data=df1)\n",
        "reg48<-lm(Insomnia~freq_folk+Age,data=df1)\n",
        "reg49<-lm(Insomnia~freq_gospel+Age,data=df1)\n",
        "reg50<-lm(Insomnia~freq_hiphop+Age,data=df1)\n",
        "reg51<-lm(Insomnia~freq_jazz+Age,data=df1)\n",
        "reg52<-lm(Insomnia~freq_kpop+Age,data=df1)\n",
        "reg53<-lm(Insomnia~freq_latin+Age,data=df1)\n",
        "reg54<-lm(Insomnia~freq_lofi+Age,data=df1)\n",
        "reg55<-lm(Insomnia~freq_metal+Age,data=df1)\n",
        "reg56<-lm(Insomnia~freq_pop+Age,data=df1)\n",
        "reg57<-lm(Insomnia~freq_rnb+Age,data=df1)\n",
        "reg58<-lm(Insomnia~freq_rap+Age,data=df1)\n",
        "reg59<-lm(Insomnia~freq_rock+Age,data=df1)\n",
        "reg60<-lm(Insomnia~freq_vidgame+Age,data=df1)"
      ],
      "metadata": {
        "id": "aobtsB2K81bI"
      },
      "execution_count": null,
      "outputs": []
    },
    {
      "cell_type": "code",
      "source": [
        "summary(reg47)"
      ],
      "metadata": {
        "colab": {
          "base_uri": "https://localhost:8080/",
          "height": 410
        },
        "id": "3EBwd6wW9AVk",
        "outputId": "994475c7-5458-4592-c68a-c47917c412a6"
      },
      "execution_count": null,
      "outputs": [
        {
          "output_type": "display_data",
          "data": {
            "text/plain": [
              "\n",
              "Call:\n",
              "lm(formula = Insomnia ~ freq_edm + Age, data = df1)\n",
              "\n",
              "Residuals:\n",
              "    Min      1Q  Median      3Q     Max \n",
              "-4.3514 -2.8698 -0.4149  2.5591  6.6024 \n",
              "\n",
              "Coefficients:\n",
              "                        Estimate Std. Error t value Pr(>|t|)    \n",
              "(Intercept)             3.328241   0.310424  10.722   <2e-16 ***\n",
              "freq_edmRarely          0.463559   0.284675   1.628   0.1039    \n",
              "freq_edmSometimes       0.430746   0.311431   1.383   0.1671    \n",
              "freq_edmVery frequently 0.793582   0.372702   2.129   0.0336 *  \n",
              "Age                     0.004332   0.009514   0.455   0.6490    \n",
              "---\n",
              "Signif. codes:  0 ‘***’ 0.001 ‘**’ 0.01 ‘*’ 0.05 ‘.’ 0.1 ‘ ’ 1\n",
              "\n",
              "Residual standard error: 3.086 on 730 degrees of freedom\n",
              "  (1 observation deleted due to missingness)\n",
              "Multiple R-squared:  0.008075,\tAdjusted R-squared:  0.00264 \n",
              "F-statistic: 1.486 on 4 and 730 DF,  p-value: 0.2047\n"
            ]
          },
          "metadata": {}
        }
      ]
    },
    {
      "cell_type": "code",
      "source": [
        "summary(reg50)"
      ],
      "metadata": {
        "colab": {
          "base_uri": "https://localhost:8080/",
          "height": 410
        },
        "id": "SbL4U1_F9Ga5",
        "outputId": "75601a80-4055-4488-bae6-da98a99667db"
      },
      "execution_count": null,
      "outputs": [
        {
          "output_type": "display_data",
          "data": {
            "text/plain": [
              "\n",
              "Call:\n",
              "lm(formula = Insomnia ~ freq_hiphop + Age, data = df1)\n",
              "\n",
              "Residuals:\n",
              "    Min      1Q  Median      3Q     Max \n",
              "-4.2471 -2.5350 -0.5001  2.5055  6.5873 \n",
              "\n",
              "Coefficients:\n",
              "                           Estimate Std. Error t value Pr(>|t|)    \n",
              "(Intercept)                3.364074   0.353906   9.506   <2e-16 ***\n",
              "freq_hiphopRarely          0.632228   0.313445   2.017   0.0441 *  \n",
              "freq_hiphopSometimes       0.064872   0.312360   0.208   0.8355    \n",
              "freq_hiphopVery frequently 0.476333   0.365015   1.305   0.1923    \n",
              "Age                        0.003743   0.009559   0.392   0.6954    \n",
              "---\n",
              "Signif. codes:  0 ‘***’ 0.001 ‘**’ 0.01 ‘*’ 0.05 ‘.’ 0.1 ‘ ’ 1\n",
              "\n",
              "Residual standard error: 3.086 on 730 degrees of freedom\n",
              "  (1 observation deleted due to missingness)\n",
              "Multiple R-squared:  0.007911,\tAdjusted R-squared:  0.002475 \n",
              "F-statistic: 1.455 on 4 and 730 DF,  p-value: 0.2141\n"
            ]
          },
          "metadata": {}
        }
      ]
    },
    {
      "cell_type": "code",
      "source": [
        "summary(reg54)"
      ],
      "metadata": {
        "colab": {
          "base_uri": "https://localhost:8080/",
          "height": 410
        },
        "id": "z0C2rRU29KH4",
        "outputId": "77eb68c9-50ff-466e-bd4a-3208c7aed4fe"
      },
      "execution_count": null,
      "outputs": [
        {
          "output_type": "display_data",
          "data": {
            "text/plain": [
              "\n",
              "Call:\n",
              "lm(formula = Insomnia ~ freq_lofi + Age, data = df1)\n",
              "\n",
              "Residuals:\n",
              "    Min      1Q  Median      3Q     Max \n",
              "-4.3667 -2.7166 -0.5741  2.3868  6.5250 \n",
              "\n",
              "Coefficients:\n",
              "                         Estimate Std. Error t value Pr(>|t|)    \n",
              "(Intercept)              3.407240   0.331795  10.269   <2e-16 ***\n",
              "freq_lofiRarely          0.203870   0.284031   0.718   0.4731    \n",
              "freq_lofiSometimes       0.227203   0.312075   0.728   0.4668    \n",
              "freq_lofiVery frequently 0.823909   0.389472   2.115   0.0347 *  \n",
              "Age                      0.005214   0.009705   0.537   0.5913    \n",
              "---\n",
              "Signif. codes:  0 ‘***’ 0.001 ‘**’ 0.01 ‘*’ 0.05 ‘.’ 0.1 ‘ ’ 1\n",
              "\n",
              "Residual standard error: 3.089 on 730 degrees of freedom\n",
              "  (1 observation deleted due to missingness)\n",
              "Multiple R-squared:  0.006147,\tAdjusted R-squared:  0.0007016 \n",
              "F-statistic: 1.129 on 4 and 730 DF,  p-value: 0.3416\n"
            ]
          },
          "metadata": {}
        }
      ]
    },
    {
      "cell_type": "code",
      "source": [
        "summary(reg55)"
      ],
      "metadata": {
        "colab": {
          "base_uri": "https://localhost:8080/",
          "height": 410
        },
        "id": "RkpEG7Rk9OVY",
        "outputId": "243072ad-0e72-41c2-b4f3-dc2613538b77"
      },
      "execution_count": null,
      "outputs": [
        {
          "output_type": "display_data",
          "data": {
            "text/plain": [
              "\n",
              "Call:\n",
              "lm(formula = Insomnia ~ freq_metal + Age, data = df1)\n",
              "\n",
              "Residuals:\n",
              "   Min     1Q Median     3Q    Max \n",
              "-4.470 -2.603 -0.414  2.404  6.847 \n",
              "\n",
              "Coefficients:\n",
              "                          Estimate Std. Error t value Pr(>|t|)    \n",
              "(Intercept)               3.132179   0.300716  10.416  < 2e-16 ***\n",
              "freq_metalRarely          0.439406   0.289943   1.515 0.130082    \n",
              "freq_metalSometimes       1.238904   0.324485   3.818 0.000146 ***\n",
              "freq_metalVery frequently 1.161240   0.315375   3.682 0.000248 ***\n",
              "Age                       0.001480   0.009375   0.158 0.874569    \n",
              "---\n",
              "Signif. codes:  0 ‘***’ 0.001 ‘**’ 0.01 ‘*’ 0.05 ‘.’ 0.1 ‘ ’ 1\n",
              "\n",
              "Residual standard error: 3.054 on 730 degrees of freedom\n",
              "  (1 observation deleted due to missingness)\n",
              "Multiple R-squared:  0.02854,\tAdjusted R-squared:  0.02322 \n",
              "F-statistic: 5.362 on 4 and 730 DF,  p-value: 0.0002934\n"
            ]
          },
          "metadata": {}
        }
      ]
    },
    {
      "cell_type": "code",
      "source": [
        "summary(reg58)"
      ],
      "metadata": {
        "colab": {
          "base_uri": "https://localhost:8080/",
          "height": 410
        },
        "id": "VRT_u6ZC9Q2U",
        "outputId": "ebc5b77b-4871-454b-8d74-cdde60639cdb"
      },
      "execution_count": null,
      "outputs": [
        {
          "output_type": "display_data",
          "data": {
            "text/plain": [
              "\n",
              "Call:\n",
              "lm(formula = Insomnia ~ freq_rap + Age, data = df1)\n",
              "\n",
              "Residuals:\n",
              "   Min     1Q Median     3Q    Max \n",
              "-4.264 -2.828 -0.627  2.378  6.740 \n",
              "\n",
              "Coefficients:\n",
              "                        Estimate Std. Error t value Pr(>|t|)    \n",
              "(Intercept)             3.194127   0.351982   9.075  < 2e-16 ***\n",
              "freq_rapRarely          0.799956   0.305258   2.621  0.00896 ** \n",
              "freq_rapSometimes       0.341253   0.313160   1.090  0.27620    \n",
              "freq_rapVery frequently 0.553968   0.357565   1.549  0.12175    \n",
              "Age                     0.005089   0.009640   0.528  0.59773    \n",
              "---\n",
              "Signif. codes:  0 ‘***’ 0.001 ‘**’ 0.01 ‘*’ 0.05 ‘.’ 0.1 ‘ ’ 1\n",
              "\n",
              "Residual standard error: 3.083 on 730 degrees of freedom\n",
              "  (1 observation deleted due to missingness)\n",
              "Multiple R-squared:  0.009817,\tAdjusted R-squared:  0.004391 \n",
              "F-statistic: 1.809 on 4 and 730 DF,  p-value: 0.1251\n"
            ]
          },
          "metadata": {}
        }
      ]
    },
    {
      "cell_type": "code",
      "source": [
        "summary(reg60)"
      ],
      "metadata": {
        "colab": {
          "base_uri": "https://localhost:8080/",
          "height": 410
        },
        "id": "5Ld7iuTA9UxG",
        "outputId": "29d3f70c-8733-41f1-e050-1dcecf6a762a"
      },
      "execution_count": null,
      "outputs": [
        {
          "output_type": "display_data",
          "data": {
            "text/plain": [
              "\n",
              "Call:\n",
              "lm(formula = Insomnia ~ freq_vidgame + Age, data = df1)\n",
              "\n",
              "Residuals:\n",
              "    Min      1Q  Median      3Q     Max \n",
              "-4.3456 -2.5782 -0.4549  2.5466  6.7070 \n",
              "\n",
              "Coefficients:\n",
              "                             Estimate Std. Error t value Pr(>|t|)    \n",
              "(Intercept)                  3.358973   0.360850   9.309   <2e-16 ***\n",
              "freq_vidgameRarely          -0.173925   0.304451  -0.571   0.5680    \n",
              "freq_vidgameSometimes        0.544813   0.312571   1.743   0.0818 .  \n",
              "freq_vidgameVery frequently  0.757220   0.357809   2.116   0.0347 *  \n",
              "Age                          0.006746   0.009874   0.683   0.4947    \n",
              "---\n",
              "Signif. codes:  0 ‘***’ 0.001 ‘**’ 0.01 ‘*’ 0.05 ‘.’ 0.1 ‘ ’ 1\n",
              "\n",
              "Residual standard error: 3.078 on 730 degrees of freedom\n",
              "  (1 observation deleted due to missingness)\n",
              "Multiple R-squared:  0.01327,\tAdjusted R-squared:  0.007859 \n",
              "F-statistic: 2.454 on 4 and 730 DF,  p-value: 0.04463\n"
            ]
          },
          "metadata": {}
        }
      ]
    }
  ],
  "metadata": {
    "celltoolbar": "Create Assignment",
    "colab": {
      "collapsed_sections": [
        "nCt11pkrv8JW",
        "-tXqIPc1wEd2",
        "zwY39fG7wFu1",
        "WkwFQ7vlWejr"
      ],
      "provenance": [],
      "include_colab_link": true
    },
    "kernelspec": {
      "display_name": "R",
      "language": "R",
      "name": "ir"
    },
    "language_info": {
      "codemirror_mode": "r",
      "file_extension": ".r",
      "mimetype": "text/x-r-source",
      "name": "R",
      "pygments_lexer": "r",
      "version": "4.2.1"
    }
  },
  "nbformat": 4,
  "nbformat_minor": 0
}
